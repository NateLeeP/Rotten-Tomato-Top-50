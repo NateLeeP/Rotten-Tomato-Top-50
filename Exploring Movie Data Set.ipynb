{
 "cells": [
  {
   "cell_type": "code",
   "execution_count": 1,
   "metadata": {},
   "outputs": [],
   "source": [
    "import os\n",
    "import pandas as pd\n",
    "import matplotlib.pyplot as plt\n",
    "import re"
   ]
  },
  {
   "cell_type": "code",
   "execution_count": 3,
   "metadata": {},
   "outputs": [],
   "source": [
    "os.chdir(r'C:\\Users\\Nate P\\Desktop\\Rotten Tomatoes Movies Analysis')\n",
    "movie_studios_df = pd.read_csv('movie_studio_df.csv')"
   ]
  },
  {
   "cell_type": "code",
   "execution_count": 4,
   "metadata": {
    "collapsed": true
   },
   "outputs": [
    {
     "data": {
      "text/html": [
       "<div>\n",
       "<style scoped>\n",
       "    .dataframe tbody tr th:only-of-type {\n",
       "        vertical-align: middle;\n",
       "    }\n",
       "\n",
       "    .dataframe tbody tr th {\n",
       "        vertical-align: top;\n",
       "    }\n",
       "\n",
       "    .dataframe thead th {\n",
       "        text-align: right;\n",
       "    }\n",
       "</style>\n",
       "<table border=\"1\" class=\"dataframe\">\n",
       "  <thead>\n",
       "    <tr style=\"text-align: right;\">\n",
       "      <th></th>\n",
       "      <th>Title</th>\n",
       "      <th>Box Office in $</th>\n",
       "      <th>Release Year</th>\n",
       "      <th>Rotten Score</th>\n",
       "      <th>Ratings</th>\n",
       "      <th>Studio</th>\n",
       "      <th>Director(s)</th>\n",
       "    </tr>\n",
       "  </thead>\n",
       "  <tbody>\n",
       "    <tr>\n",
       "      <th>0</th>\n",
       "      <td>Avengers: Endgame</td>\n",
       "      <td>2798000000</td>\n",
       "      <td>2019</td>\n",
       "      <td>94</td>\n",
       "      <td>PG-13</td>\n",
       "      <td>Marvel Studios</td>\n",
       "      <td>Joe Russo, Anthony Russo</td>\n",
       "    </tr>\n",
       "    <tr>\n",
       "      <th>1</th>\n",
       "      <td>Avatar</td>\n",
       "      <td>2790000000</td>\n",
       "      <td>2009</td>\n",
       "      <td>82</td>\n",
       "      <td>PG-13</td>\n",
       "      <td>20th Century Fox</td>\n",
       "      <td>James Cameron</td>\n",
       "    </tr>\n",
       "    <tr>\n",
       "      <th>2</th>\n",
       "      <td>Titanic</td>\n",
       "      <td>2188000000</td>\n",
       "      <td>1997</td>\n",
       "      <td>89</td>\n",
       "      <td>PG-13</td>\n",
       "      <td>Paramount Pictures</td>\n",
       "      <td>James Cameron</td>\n",
       "    </tr>\n",
       "    <tr>\n",
       "      <th>3</th>\n",
       "      <td>Star Wars: Episode VII - The Force Awakens</td>\n",
       "      <td>2068000000</td>\n",
       "      <td>2015</td>\n",
       "      <td>93</td>\n",
       "      <td>PG-13</td>\n",
       "      <td>Walt Disney Pictures</td>\n",
       "      <td>J.J. Abrams</td>\n",
       "    </tr>\n",
       "    <tr>\n",
       "      <th>4</th>\n",
       "      <td>Avengers: Infinity War</td>\n",
       "      <td>2048000000</td>\n",
       "      <td>2018</td>\n",
       "      <td>85</td>\n",
       "      <td>PG-13</td>\n",
       "      <td>Walt Disney Pictures</td>\n",
       "      <td>Anthony Russo, Joe Russo</td>\n",
       "    </tr>\n",
       "  </tbody>\n",
       "</table>\n",
       "</div>"
      ],
      "text/plain": [
       "                                        Title  Box Office in $  Release Year  \\\n",
       "0                           Avengers: Endgame       2798000000          2019   \n",
       "1                                      Avatar       2790000000          2009   \n",
       "2                                     Titanic       2188000000          1997   \n",
       "3  Star Wars: Episode VII - The Force Awakens       2068000000          2015   \n",
       "4                      Avengers: Infinity War       2048000000          2018   \n",
       "\n",
       "   Rotten Score Ratings                Studio               Director(s)  \n",
       "0            94   PG-13        Marvel Studios  Joe Russo, Anthony Russo  \n",
       "1            82   PG-13      20th Century Fox             James Cameron  \n",
       "2            89   PG-13    Paramount Pictures             James Cameron  \n",
       "3            93   PG-13  Walt Disney Pictures               J.J. Abrams  \n",
       "4            85   PG-13  Walt Disney Pictures  Anthony Russo, Joe Russo  "
      ]
     },
     "execution_count": 4,
     "metadata": {},
     "output_type": "execute_result"
    }
   ],
   "source": [
    "movie_studios_df.head()"
   ]
  },
  {
   "cell_type": "code",
   "execution_count": 8,
   "metadata": {
    "collapsed": true
   },
   "outputs": [
    {
     "data": {
      "text/plain": [
       "Director(s)\n",
       "James Wan                                  2\n",
       "Christopher Nolan                          2\n",
       "Jon Favreau                                2\n",
       "Peter Jackson                              2\n",
       "Michael Bay                                2\n",
       "James Cameron                              2\n",
       "Anthony Russo, Joe Russo                   2\n",
       "F. Gary Gray                               1\n",
       "J.A. Bayona                                1\n",
       "Guy Ritchie                                1\n",
       "Gore Verbinski                             1\n",
       "Anna Boden, Ryan Fleck                     1\n",
       "George Lucas                               1\n",
       "Gareth Edwards (V)                         1\n",
       "Brad Bird                                  1\n",
       "Byron Howard, Rich Moore, Jared Bush       1\n",
       "Dariusz Wolski, Rob Marshall               1\n",
       "Colin Trevorrow                            1\n",
       "J.J. Abrams                                1\n",
       "Bill Condon                                1\n",
       "Chris Columbus                             1\n",
       "Chris Buck, Jennifer Lee                   1\n",
       "David Yates (II)                           1\n",
       "Todd Phillips                              1\n",
       "Jake Kasdan                                1\n",
       "Pierre Coffin, Chris Renaud                1\n",
       "Steven Spielberg                           1\n",
       "Shane Black                                1\n",
       "Sam Mendes                                 1\n",
       "Ryan Coogler                               1\n",
       "Roger Allers, Rob Minkoff                  1\n",
       "Rian Johnson                               1\n",
       "Pierre Coffin, Kyle Balda                  1\n",
       "Lee Unkrich                                1\n",
       "Tim Burton                                 1\n",
       "Kyle Balda, Pierre Coffin, Eric Guillon    1\n",
       "Joss Whedon, Robert Downey Jr.             1\n",
       "Joss Whedon                                1\n",
       "Josh Cooley                                1\n",
       "Jon Watts                                  1\n",
       "Joe Russo, Anthony Russo                   1\n",
       "Jennifer Lee, Chris Buck                   1\n",
       "Andrew Stanton, Angus MacLane              1\n",
       "Name: Title, dtype: int64"
      ]
     },
     "execution_count": 8,
     "metadata": {},
     "output_type": "execute_result"
    }
   ],
   "source": [
    "movie_studios_df.groupby('Director(s)')['Title'].count().sort_values(ascending = False)"
   ]
  },
  {
   "cell_type": "code",
   "execution_count": 63,
   "metadata": {},
   "outputs": [],
   "source": [
    "def change_name(name):\n",
    "    if 'Joe Russo' and 'Anthony Russo' in name:\n",
    "        name = 'Anthony Russo, Joe Russo'\n",
    "        return name\n",
    "    if 'Joss Whedon' in name:\n",
    "        name = 'Joss Whedon'\n",
    "        return name\n",
    "    if 'Jennifer Lee' and 'Chris Buck' in name:\n",
    "        name = 'Chris Buck, Jennifer Lee'\n",
    "        return name\n",
    "    else:\n",
    "        return name"
   ]
  },
  {
   "cell_type": "code",
   "execution_count": 64,
   "metadata": {
    "collapsed": true
   },
   "outputs": [
    {
     "data": {
      "text/plain": [
       "0                    Anthony Russo, Joe Russo\n",
       "1                               James Cameron\n",
       "2                               James Cameron\n",
       "3                                 J.J. Abrams\n",
       "4                    Anthony Russo, Joe Russo\n",
       "5                             Colin Trevorrow\n",
       "6                                 Jon Favreau\n",
       "7                                 Joss Whedon\n",
       "8                                   James Wan\n",
       "9                                 Joss Whedon\n",
       "10                               Ryan Coogler\n",
       "11                           David Yates (II)\n",
       "12                               Rian Johnson\n",
       "13                                J.A. Bayona\n",
       "14                   Chris Buck, Jennifer Lee\n",
       "15                                Bill Condon\n",
       "16                                  Brad Bird\n",
       "17                               F. Gary Gray\n",
       "18                   Chris Buck, Jennifer Lee\n",
       "19                                Shane Black\n",
       "20                  Pierre Coffin, Kyle Balda\n",
       "21                   Anthony Russo, Joe Russo\n",
       "22                                  James Wan\n",
       "23                                  Jon Watts\n",
       "24                     Anna Boden, Ryan Fleck\n",
       "25                                Michael Bay\n",
       "26                              Peter Jackson\n",
       "27                                 Sam Mendes\n",
       "28                                Michael Bay\n",
       "29                          Christopher Nolan\n",
       "30                                Josh Cooley\n",
       "31                                Lee Unkrich\n",
       "32                             Gore Verbinski\n",
       "33                              Todd Phillips\n",
       "34                         Gareth Edwards (V)\n",
       "35                                Guy Ritchie\n",
       "36               Dariusz Wolski, Rob Marshall\n",
       "37    Kyle Balda, Pierre Coffin, Eric Guillon\n",
       "38                           Steven Spielberg\n",
       "39              Andrew Stanton, Angus MacLane\n",
       "40                               George Lucas\n",
       "41                                 Tim Burton\n",
       "42       Byron Howard, Rich Moore, Jared Bush\n",
       "43                              Peter Jackson\n",
       "44                          Christopher Nolan\n",
       "45                             Chris Columbus\n",
       "46                Pierre Coffin, Chris Renaud\n",
       "47                  Roger Allers, Rob Minkoff\n",
       "48                                Jon Favreau\n",
       "49                                Jake Kasdan\n",
       "Name: Director(s), dtype: object"
      ]
     },
     "execution_count": 64,
     "metadata": {},
     "output_type": "execute_result"
    }
   ],
   "source": [
    "movie_studios_df['Director(s)'].apply(lambda name: change_name(name))"
   ]
  },
  {
   "cell_type": "code",
   "execution_count": 54,
   "metadata": {
    "scrolled": true
   },
   "outputs": [
    {
     "data": {
      "text/plain": [
       "Director(s)\n",
       "Anthony Russo, Joe Russo                   3\n",
       "James Cameron                              2\n",
       "Christopher Nolan                          2\n",
       "James Wan                                  2\n",
       "Jon Favreau                                2\n",
       "Peter Jackson                              2\n",
       "Michael Bay                                2\n",
       "Chris Buck, Jennifer Lee                   1\n",
       "Chris Columbus                             1\n",
       "Byron Howard, Rich Moore, Jared Bush       1\n",
       "Brad Bird                                  1\n",
       "J.J. Abrams                                1\n",
       "Colin Trevorrow                            1\n",
       "Dariusz Wolski, Rob Marshall               1\n",
       "David Yates (II)                           1\n",
       "F. Gary Gray                               1\n",
       "Gareth Edwards (V)                         1\n",
       "George Lucas                               1\n",
       "Bill Condon                                1\n",
       "Gore Verbinski                             1\n",
       "Anna Boden, Ryan Fleck                     1\n",
       "Guy Ritchie                                1\n",
       "J.A. Bayona                                1\n",
       "Todd Phillips                              1\n",
       "Jake Kasdan                                1\n",
       "Tim Burton                                 1\n",
       "Steven Spielberg                           1\n",
       "Shane Black                                1\n",
       "Sam Mendes                                 1\n",
       "Ryan Coogler                               1\n",
       "Roger Allers, Rob Minkoff                  1\n",
       "Rian Johnson                               1\n",
       "Pierre Coffin, Kyle Balda                  1\n",
       "Pierre Coffin, Chris Renaud                1\n",
       "Lee Unkrich                                1\n",
       "Kyle Balda, Pierre Coffin, Eric Guillon    1\n",
       "Joss Whedon, Robert Downey Jr.             1\n",
       "Joss Whedon                                1\n",
       "Josh Cooley                                1\n",
       "Jon Watts                                  1\n",
       "Jennifer Lee, Chris Buck                   1\n",
       "Andrew Stanton, Angus MacLane              1\n",
       "Name: Title, dtype: int64"
      ]
     },
     "execution_count": 54,
     "metadata": {},
     "output_type": "execute_result"
    }
   ],
   "source": [
    "movie_studios_df.groupby('Director(s)')['Title'].count().sort_values(ascending = False)"
   ]
  },
  {
   "cell_type": "code",
   "execution_count": null,
   "metadata": {},
   "outputs": [],
   "source": []
  }
 ],
 "metadata": {
  "kernelspec": {
   "display_name": "Python 3",
   "language": "python",
   "name": "python3"
  },
  "language_info": {
   "codemirror_mode": {
    "name": "ipython",
    "version": 3
   },
   "file_extension": ".py",
   "mimetype": "text/x-python",
   "name": "python",
   "nbconvert_exporter": "python",
   "pygments_lexer": "ipython3",
   "version": "3.7.5"
  }
 },
 "nbformat": 4,
 "nbformat_minor": 2
}
