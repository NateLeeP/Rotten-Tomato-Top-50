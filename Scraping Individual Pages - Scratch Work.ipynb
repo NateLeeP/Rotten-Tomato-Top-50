{
 "cells": [
  {
   "cell_type": "code",
   "execution_count": 1,
   "metadata": {},
   "outputs": [],
   "source": [
    "import re \n",
    "import pandas as pd\n",
    "from bs4 import BeautifulSoup as bs\n",
    "import requests\n",
    "import os"
   ]
  },
  {
   "cell_type": "code",
   "execution_count": 2,
   "metadata": {},
   "outputs": [],
   "source": [
    "os.chdir(r'C:\\Users\\Nate P\\Desktop\\Rotten Tomatoes Movies Analysis')"
   ]
  },
  {
   "cell_type": "markdown",
   "metadata": {},
   "source": [
    "### Goal to is to scrape Movie Studio, Directors, Rating from movie page on rotten tomatoes"
   ]
  },
  {
   "cell_type": "code",
   "execution_count": 4,
   "metadata": {},
   "outputs": [],
   "source": [
    "# Practice with Avengers: Endgame\n",
    "url = 'https://www.rottentomatoes.com/m/avengers_endgame/'\n",
    "html_text = requests.get(url).text\n",
    "soup = bs(html_text)"
   ]
  },
  {
   "cell_type": "code",
   "execution_count": 5,
   "metadata": {},
   "outputs": [
    {
     "name": "stdout",
     "output_type": "stream",
     "text": [
      "Rating: PG-13 (for sequences of sci-fi violence and action, and some language)\n",
      "Genre: Action & Adventure, Drama, Science Fiction & Fantasy\n",
      "Directed By: Joe Russo, Anthony Russo\n",
      "Written By: Christopher Markus, Stephen McFeely\n",
      "In Theaters: Apr 26, 2019 wide\n",
      "On Disc/Streaming: Jul 30, 2019\n",
      "Runtime: 182 minutes\n",
      "Studio: Marvel Studios\n"
     ]
    }
   ],
   "source": [
    "for tag in soup.findAll('li', 'meta-row clearfix'):\n",
    "    print(' '.join(tag.text.replace('\\n','').split()))\n",
    "    \n",
    "### Removes new lines, deletes excessive spaces. "
   ]
  },
  {
   "cell_type": "code",
   "execution_count": 7,
   "metadata": {},
   "outputs": [
    {
     "data": {
      "text/plain": [
       "'Directed By: Joe Russo, Anthony Russo'"
      ]
     },
     "execution_count": 7,
     "metadata": {},
     "output_type": "execute_result"
    }
   ],
   "source": [
    "\" \".join(soup.findAll('li','meta-row clearfix')[2].text.replace('\\n','').split())"
   ]
  },
  {
   "cell_type": "code",
   "execution_count": 6,
   "metadata": {},
   "outputs": [
    {
     "data": {
      "text/plain": [
       "'Marvel Studios'"
      ]
     },
     "execution_count": 6,
     "metadata": {},
     "output_type": "execute_result"
    }
   ],
   "source": [
    "re.search(r'(?<=: ).+', 'Studio: Marvel Studios')[0]\n",
    "# Above is a 'backwards looking' regex! Matches the string IF it is proceeded by the match wihtin parenthesis (after '?<=')\n",
    "# Matches any characters after ':' character"
   ]
  },
  {
   "cell_type": "code",
   "execution_count": 7,
   "metadata": {},
   "outputs": [
    {
     "data": {
      "text/plain": [
       "<re.Match object; span=(13, 37), match='Joe Russo, Anthony Russo'>"
      ]
     },
     "execution_count": 7,
     "metadata": {},
     "output_type": "execute_result"
    }
   ],
   "source": [
    "re.search(r'(?<=: ).+', 'Directed By: Joe Russo, Anthony Russo')\n",
    "# Once again, using a backwards looking regex. The (?<=) is a pattern that looks for matches after a passed pattern/character.\n",
    "# In this instance, it looked for matches after the ':'"
   ]
  },
  {
   "cell_type": "code",
   "execution_count": 8,
   "metadata": {},
   "outputs": [
    {
     "name": "stdout",
     "output_type": "stream",
     "text": [
      "https://www.rottentomatoes.com/m/Movie\n",
      "https://www.rottentomatoes.com/m/Title\n",
      "https://www.rottentomatoes.com/m/Format\n"
     ]
    }
   ],
   "source": [
    "# Could grab everything after ':', since all will be laid out like this. \n",
    "# Practice formating. Goal is to have a list of movie titles that can be converted into a string that is understood by URL. \n",
    "for name in ['Movie','Title','Format']:\n",
    "    url = 'https://www.rottentomatoes.com/m/{}'.format(name)\n",
    "    print(url)\n"
   ]
  },
  {
   "cell_type": "code",
   "execution_count": 14,
   "metadata": {},
   "outputs": [],
   "source": [
    "# Stop here! believe there is workaround to collecting movies that are repeats, such as lion king. \n",
    "# There is! Will note in future how boolean is used in conjuncture with checking if request had response. \n",
    "# Read in movies df to gain access to movie titles\n",
    "movies_df = pd.read_csv('movies_df.csv')"
   ]
  },
  {
   "cell_type": "code",
   "execution_count": 15,
   "metadata": {},
   "outputs": [
    {
     "data": {
      "text/html": [
       "<div>\n",
       "<style scoped>\n",
       "    .dataframe tbody tr th:only-of-type {\n",
       "        vertical-align: middle;\n",
       "    }\n",
       "\n",
       "    .dataframe tbody tr th {\n",
       "        vertical-align: top;\n",
       "    }\n",
       "\n",
       "    .dataframe thead th {\n",
       "        text-align: right;\n",
       "    }\n",
       "</style>\n",
       "<table border=\"1\" class=\"dataframe\">\n",
       "  <thead>\n",
       "    <tr style=\"text-align: right;\">\n",
       "      <th></th>\n",
       "      <th>Title</th>\n",
       "      <th>Box Office in $</th>\n",
       "      <th>Release Year</th>\n",
       "      <th>Rotten Score</th>\n",
       "    </tr>\n",
       "  </thead>\n",
       "  <tbody>\n",
       "    <tr>\n",
       "      <th>0</th>\n",
       "      <td>Avengers: Endgame</td>\n",
       "      <td>2798000000</td>\n",
       "      <td>2019</td>\n",
       "      <td>94</td>\n",
       "    </tr>\n",
       "    <tr>\n",
       "      <th>1</th>\n",
       "      <td>Avatar</td>\n",
       "      <td>2790000000</td>\n",
       "      <td>2009</td>\n",
       "      <td>82</td>\n",
       "    </tr>\n",
       "    <tr>\n",
       "      <th>2</th>\n",
       "      <td>Titanic</td>\n",
       "      <td>2188000000</td>\n",
       "      <td>1997</td>\n",
       "      <td>89</td>\n",
       "    </tr>\n",
       "    <tr>\n",
       "      <th>3</th>\n",
       "      <td>Star Wars: Episode VII - The Force Awakens</td>\n",
       "      <td>2068000000</td>\n",
       "      <td>2015</td>\n",
       "      <td>93</td>\n",
       "    </tr>\n",
       "    <tr>\n",
       "      <th>4</th>\n",
       "      <td>Avengers: Infinity War</td>\n",
       "      <td>2048000000</td>\n",
       "      <td>2018</td>\n",
       "      <td>85</td>\n",
       "    </tr>\n",
       "  </tbody>\n",
       "</table>\n",
       "</div>"
      ],
      "text/plain": [
       "                                        Title  Box Office in $  Release Year  \\\n",
       "0                           Avengers: Endgame       2798000000          2019   \n",
       "1                                      Avatar       2790000000          2009   \n",
       "2                                     Titanic       2188000000          1997   \n",
       "3  Star Wars: Episode VII - The Force Awakens       2068000000          2015   \n",
       "4                      Avengers: Infinity War       2048000000          2018   \n",
       "\n",
       "   Rotten Score  \n",
       "0            94  \n",
       "1            82  \n",
       "2            89  \n",
       "3            93  \n",
       "4            85  "
      ]
     },
     "execution_count": 15,
     "metadata": {},
     "output_type": "execute_result"
    }
   ],
   "source": [
    "movies_df.head()"
   ]
  },
  {
   "cell_type": "code",
   "execution_count": 16,
   "metadata": {},
   "outputs": [],
   "source": [
    "# List of Movie titles to rework into URL\n",
    "movie_titles = list(movies_df['Title'])\n",
    "#List of movie years\n",
    "movie_years = list(movies_df['Release Year'])"
   ]
  },
  {
   "cell_type": "code",
   "execution_count": 17,
   "metadata": {},
   "outputs": [
    {
     "data": {
      "text/plain": [
       "['Avengers: Endgame',\n",
       " 'Avatar',\n",
       " 'Titanic',\n",
       " 'Star Wars: Episode VII - The Force Awakens',\n",
       " 'Avengers: Infinity War',\n",
       " 'Jurassic World',\n",
       " 'The Lion King',\n",
       " \"Marvel's The Avengers\",\n",
       " 'Furious 7',\n",
       " 'Avengers: Age of Ultron',\n",
       " 'Frozen II',\n",
       " 'Black Panther',\n",
       " 'Harry Potter and the Deathly Hallows - Part 2',\n",
       " 'Star Wars: The Last Jedi',\n",
       " 'Jurassic World: Fallen Kingdom',\n",
       " 'Frozen',\n",
       " 'Beauty and the Beast',\n",
       " 'Incredibles 2',\n",
       " 'The Fate of the Furious',\n",
       " 'Iron Man 3',\n",
       " 'Minions',\n",
       " 'Captain America: Civil War',\n",
       " 'Aquaman',\n",
       " 'Spider-Man: Far From Home',\n",
       " 'Captain Marvel',\n",
       " 'Transformers: Dark of the Moon',\n",
       " 'The Lord of the Rings: The Return of the King',\n",
       " 'Skyfall',\n",
       " 'Transformers: Age of Extinction',\n",
       " 'The Dark Knight Rises',\n",
       " 'Toy Story 4',\n",
       " 'Toy Story 3',\n",
       " \"Pirates of the Caribbean: Dead Man's Chest\",\n",
       " 'Joker',\n",
       " 'Rogue One: A Star Wars Story',\n",
       " 'Aladdin',\n",
       " 'Pirates of the Caribbean: On Stranger Tides',\n",
       " 'Despicable Me 3',\n",
       " 'Jurassic Park',\n",
       " 'Finding Dory',\n",
       " 'Star Wars: Episode I - The Phantom Menace',\n",
       " 'Alice in Wonderland',\n",
       " 'Zootopia',\n",
       " 'The Hobbit: An Unexpected Journey',\n",
       " 'The Dark Knight',\n",
       " 'Star Wars: The Rise of Skywalker',\n",
       " \"Harry Potter and the Sorcerer's Stone\",\n",
       " 'Despicable Me 2',\n",
       " 'The Lion King',\n",
       " 'The Jungle Book']"
      ]
     },
     "execution_count": 17,
     "metadata": {},
     "output_type": "execute_result"
    }
   ],
   "source": [
    "movie_titles"
   ]
  },
  {
   "cell_type": "code",
   "execution_count": 19,
   "metadata": {},
   "outputs": [
    {
     "name": "stdout",
     "output_type": "stream",
     "text": [
      "yes\n"
     ]
    }
   ],
   "source": [
    "# Below is practicing scraping a page we know exist. \n",
    "movie_practice = \"Star Wars: Episode I - The Phantom Menace\"\n",
    "# Create url with format method. Regex pattern looks to replace any not word character with an empty space. Then, we split it\n",
    "# on empty spaces. Once split, the word is joined by '_', to create a url format Rotten Tomato understands\n",
    "url_pirates = 'https://www.rottentomatoes.com/m/{}'.format('_'.join(re.sub(r'[:\\-\\']','', movie_practice).lower().split()))\n",
    "pirates_request = requests.get(url_pirates)\n",
    "if pirates_request:\n",
    "    print('yes')"
   ]
  },
  {
   "cell_type": "code",
   "execution_count": 20,
   "metadata": {},
   "outputs": [],
   "source": [
    "list_of_urls = []"
   ]
  },
  {
   "cell_type": "code",
   "execution_count": null,
   "metadata": {},
   "outputs": [],
   "source": []
  }
 ],
 "metadata": {
  "kernelspec": {
   "display_name": "Python 3",
   "language": "python",
   "name": "python3"
  },
  "language_info": {
   "codemirror_mode": {
    "name": "ipython",
    "version": 3
   },
   "file_extension": ".py",
   "mimetype": "text/x-python",
   "name": "python",
   "nbconvert_exporter": "python",
   "pygments_lexer": "ipython3",
   "version": "3.7.5"
  }
 },
 "nbformat": 4,
 "nbformat_minor": 2
}
